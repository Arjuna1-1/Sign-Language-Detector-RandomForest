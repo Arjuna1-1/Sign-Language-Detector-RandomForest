{
 "cells": [
  {
   "cell_type": "code",
   "execution_count": 1,
   "metadata": {},
   "outputs": [],
   "source": [
    "import cv2\n",
    "import mediapipe as mp\n",
    "import numpy as np\n",
    "import tensorflow as tf\n",
    "from sklearn.model_selection import train_test_split\n",
    "from sklearn.ensemble import RandomForestClassifier\n",
    "from sklearn.metrics import accuracy_score\n",
    "import matplotlib.pyplot as plt\n",
    "import os"
   ]
  },
  {
   "cell_type": "code",
   "execution_count": 2,
   "metadata": {},
   "outputs": [],
   "source": [
    "# Initialize MediaPipe Holistic\n",
    "mp_holistic = mp.solutions.holistic\n",
    "mp_drawing = mp.solutions.drawing_utils"
   ]
  },
  {
   "cell_type": "code",
   "execution_count": 3,
   "metadata": {},
   "outputs": [],
   "source": [
    "# Function to extract hand landmarks\n",
    "def extract_hand_landmarks(image, holistic):\n",
    "    image_rgb = cv2.cvtColor(image, cv2.COLOR_BGR2RGB)\n",
    "    results = holistic.process(image_rgb)\n",
    "    if results.left_hand_landmarks:\n",
    "        left_hand_landmarks = [(lm.x, lm.y, lm.z) for lm in results.left_hand_landmarks.landmark]\n",
    "    else:\n",
    "        left_hand_landmarks = [(0, 0, 0)] * 21\n",
    "    if results.right_hand_landmarks:\n",
    "        right_hand_landmarks = [(lm.x, lm.y, lm.z) for lm in results.right_hand_landmarks.landmark]\n",
    "    else:\n",
    "        right_hand_landmarks = [(0, 0, 0)] * 21\n",
    "    return left_hand_landmarks + right_hand_landmarks"
   ]
  },
  {
   "cell_type": "code",
   "execution_count": 4,
   "metadata": {},
   "outputs": [],
   "source": [
    "# Capture landmarks for training data\n",
    "def capture_landmarks(sign_name, num_samples):\n",
    "    cap = cv2.VideoCapture(0)\n",
    "    holistic = mp_holistic.Holistic()\n",
    "    data = []\n",
    "    \n",
    "    for _ in range(num_samples):\n",
    "        ret, frame = cap.read()\n",
    "        if not ret:\n",
    "            break\n",
    "        landmarks = extract_hand_landmarks(frame, holistic)\n",
    "        data.append((landmarks, sign_name))\n",
    "        \n",
    "        mp_drawing.draw_landmarks(frame, holistic.process(frame).left_hand_landmarks, mp_holistic.HAND_CONNECTIONS)\n",
    "        mp_drawing.draw_landmarks(frame, holistic.process(frame).right_hand_landmarks, mp_holistic.HAND_CONNECTIONS)\n",
    "        cv2.imshow('Frame', frame)\n",
    "        \n",
    "        if cv2.waitKey(1) & 0xFF == ord('q'):\n",
    "            break\n",
    "    \n",
    "    cap.release()\n",
    "    cv2.destroyAllWindows()\n",
    "    return data"
   ]
  },
  {
   "cell_type": "code",
   "execution_count": 5,
   "metadata": {},
   "outputs": [
    {
     "name": "stdout",
     "output_type": "stream",
     "text": [
      "Capturing data for I love you\n",
      "Capturing data for Thank you\n",
      "Capturing data for Hello\n"
     ]
    }
   ],
   "source": [
    "# Capture data for each sign\n",
    "signs = ['I love you', 'Thank you', 'Hello']\n",
    "num_samples_per_sign = 100\n",
    "\n",
    "all_data = []\n",
    "for sign in signs:\n",
    "    print(f\"Capturing data for {sign}\")\n",
    "    sign_data = capture_landmarks(sign, num_samples_per_sign)\n",
    "    all_data.extend(sign_data)"
   ]
  },
  {
   "cell_type": "code",
   "execution_count": 6,
   "metadata": {},
   "outputs": [],
   "source": [
    "# Prepare the data\n",
    "landmarks, labels = zip(*all_data)\n",
    "landmarks = np.array(landmarks)\n",
    "labels = np.array(labels)"
   ]
  },
  {
   "cell_type": "code",
   "execution_count": 7,
   "metadata": {},
   "outputs": [],
   "source": [
    "# Encode labels\n",
    "label_map = {label: idx for idx, label in enumerate(signs)}\n",
    "labels_encoded = np.array([label_map[label] for label in labels])"
   ]
  },
  {
   "cell_type": "code",
   "execution_count": 8,
   "metadata": {},
   "outputs": [
    {
     "name": "stdout",
     "output_type": "stream",
     "text": [
      "Accuracy: 91.67%\n"
     ]
    }
   ],
   "source": [
    "# Reshape landmarks array to be 2D\n",
    "num_samples, num_landmarks, num_coordinates = landmarks.shape\n",
    "landmarks_reshaped = landmarks.reshape(num_samples, num_landmarks * num_coordinates)\n",
    "\n",
    "# Train a classification model\n",
    "X_train, X_test, y_train, y_test = train_test_split(landmarks_reshaped, labels_encoded, test_size=0.2, random_state=42)\n",
    "clf = RandomForestClassifier(n_estimators=100)\n",
    "clf.fit(X_train, y_train)\n",
    "\n",
    "# Evaluate the model\n",
    "y_pred = clf.predict(X_test)\n",
    "print(f\"Accuracy: {accuracy_score(y_test, y_pred) * 100:.2f}%\")"
   ]
  },
  {
   "cell_type": "code",
   "execution_count": 9,
   "metadata": {},
   "outputs": [],
   "source": [
    "# Function to predict sign in real-time\n",
    "def predict_sign():\n",
    "    cap = cv2.VideoCapture(0)\n",
    "    holistic = mp_holistic.Holistic()\n",
    "    \n",
    "    while True:\n",
    "        ret, frame = cap.read()\n",
    "        if not ret:\n",
    "            break\n",
    "        \n",
    "        landmarks = extract_hand_landmarks(frame, holistic)\n",
    "        landmarks = np.array(landmarks).reshape(1, -1)\n",
    "        prediction = clf.predict(landmarks)\n",
    "        sign = signs[prediction[0]]\n",
    "        \n",
    "        cv2.putText(frame, f'Sign: {sign}', (50, 50), cv2.FONT_HERSHEY_SIMPLEX, 1, (255, 0, 0), 2, cv2.LINE_AA)\n",
    "        mp_drawing.draw_landmarks(frame, holistic.process(frame).left_hand_landmarks, mp_holistic.HAND_CONNECTIONS)\n",
    "        mp_drawing.draw_landmarks(frame, holistic.process(frame).right_hand_landmarks, mp_holistic.HAND_CONNECTIONS)\n",
    "        cv2.imshow('Frame', frame)\n",
    "        \n",
    "        if cv2.waitKey(1) & 0xFF == ord('q'):\n",
    "            break\n",
    "    \n",
    "    cap.release()\n",
    "    cv2.destroyAllWindows()"
   ]
  },
  {
   "cell_type": "code",
   "execution_count": 10,
   "metadata": {},
   "outputs": [],
   "source": [
    "# Run the real-time sign prediction\n",
    "predict_sign()"
   ]
  }
 ],
 "metadata": {
  "kernelspec": {
   "display_name": "Python 3",
   "language": "python",
   "name": "python3"
  },
  "language_info": {
   "codemirror_mode": {
    "name": "ipython",
    "version": 3
   },
   "file_extension": ".py",
   "mimetype": "text/x-python",
   "name": "python",
   "nbconvert_exporter": "python",
   "pygments_lexer": "ipython3",
   "version": "3.11.2"
  }
 },
 "nbformat": 4,
 "nbformat_minor": 2
}
